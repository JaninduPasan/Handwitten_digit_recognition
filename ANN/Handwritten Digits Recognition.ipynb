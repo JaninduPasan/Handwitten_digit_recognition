{
 "cells": [
  {
   "cell_type": "code",
   "execution_count": 3,
   "id": "56c0dce0",
   "metadata": {},
   "outputs": [],
   "source": [
    "import tensorflow as tf"
   ]
  },
  {
   "cell_type": "code",
   "execution_count": 10,
   "id": "c279ac25",
   "metadata": {},
   "outputs": [],
   "source": [
    "mnist = tf.keras.datasets.mnist\n",
    "(x_train, y_train),(x_test, y_test) = mnist.load_data()\n",
    "\n",
    "x_train = tf.keras.utils.normalize(x_train, axis=1) #scale data between 0 and 1\n",
    "x_test = tf.keras.utils.normalize(x_test, axis=1)"
   ]
  },
  {
   "cell_type": "code",
   "execution_count": 5,
   "id": "9f793c19",
   "metadata": {},
   "outputs": [],
   "source": [
    "model = tf.keras.models.Sequential() #A basic feed-forward function\n",
    "model.add(tf.keras.layers.Flatten()) #takes 28x28 and makes it 1x784"
   ]
  },
  {
   "cell_type": "code",
   "execution_count": 6,
   "id": "a330022e",
   "metadata": {},
   "outputs": [],
   "source": [
    "model.add(tf.keras.layers.Dense(128, activation=tf.nn.relu)) #a simple fully-connected layers, 128 units, relu activation\n",
    "model.add(tf.keras.layers.Dense(128, activation=tf.nn.relu))"
   ]
  },
  {
   "cell_type": "code",
   "execution_count": 7,
   "id": "c1f6240b",
   "metadata": {},
   "outputs": [],
   "source": [
    "# 10 units final layer\n",
    "model.add(tf.keras.layers.Dense(10, activation=tf.nn.softmax)) #output layer, 10 units for 10 classes. Softmax for probability distribution"
   ]
  },
  {
   "cell_type": "code",
   "execution_count": 8,
   "id": "67c63882",
   "metadata": {},
   "outputs": [],
   "source": [
    "model.compile(optimizer='adam',\n",
    "              loss = 'sparse_categorical_crossentropy', #how to calculate 'error'\n",
    "              metrics=('accuracy')) #what to track"
   ]
  },
  {
   "cell_type": "code",
   "execution_count": 11,
   "id": "81349bfb",
   "metadata": {},
   "outputs": [
    {
     "name": "stdout",
     "output_type": "stream",
     "text": [
      "Epoch 1/3\n",
      "1875/1875 [==============================] - 1s 469us/step - loss: 0.2614 - accuracy: 0.9240\n",
      "Epoch 2/3\n",
      "1875/1875 [==============================] - 1s 467us/step - loss: 0.1043 - accuracy: 0.9672\n",
      "Epoch 3/3\n",
      "1875/1875 [==============================] - 1s 467us/step - loss: 0.0713 - accuracy: 0.9776\n"
     ]
    },
    {
     "data": {
      "text/plain": [
       "<keras.src.callbacks.History at 0x2a6df7bd0>"
      ]
     },
     "execution_count": 11,
     "metadata": {},
     "output_type": "execute_result"
    }
   ],
   "source": [
    "model.fit(x_train, y_train, epochs=3) #train the model"
   ]
  },
  {
   "cell_type": "code",
   "execution_count": 12,
   "id": "c495e829",
   "metadata": {},
   "outputs": [
    {
     "name": "stdout",
     "output_type": "stream",
     "text": [
      "313/313 [==============================] - 0s 289us/step - loss: 0.0963 - accuracy: 0.9715\n",
      "0.09625466912984848\n",
      "0.9714999794960022\n"
     ]
    }
   ],
   "source": [
    "val_loss, val_acc = model.evaluate(x_test, y_test) #evaluate the out of sample data with model\n",
    "print(val_loss) #model's error\n",
    "print(val_acc) #model's accuracy"
   ]
  },
  {
   "cell_type": "code",
   "execution_count": 13,
   "id": "a9216b19",
   "metadata": {},
   "outputs": [
    {
     "name": "stdout",
     "output_type": "stream",
     "text": [
      "INFO:tensorflow:Assets written to: epic_num_reader.model/assets\n"
     ]
    },
    {
     "name": "stderr",
     "output_type": "stream",
     "text": [
      "INFO:tensorflow:Assets written to: epic_num_reader.model/assets\n"
     ]
    }
   ],
   "source": [
    "model.save('epic_num_reader.model')\n",
    "new_model = tf.keras.models.load_model('epic_num_reader.model')"
   ]
  },
  {
   "cell_type": "code",
   "execution_count": 14,
   "id": "4a188260",
   "metadata": {},
   "outputs": [
    {
     "name": "stdout",
     "output_type": "stream",
     "text": [
      "313/313 [==============================] - 0s 271us/step\n",
      "[[4.48643291e-08 2.12128413e-07 2.46723607e-06 ... 9.99986291e-01\n",
      "  2.93411500e-08 2.71009156e-07]\n",
      " [2.42446685e-09 2.28202800e-04 9.99755800e-01 ... 5.36023403e-09\n",
      "  4.25867093e-08 1.44305276e-10]\n",
      " [2.82183009e-07 9.99625683e-01 3.36887642e-05 ... 7.54621724e-05\n",
      "  7.44729186e-05 1.04998708e-06]\n",
      " ...\n",
      " [2.20361720e-08 1.26305649e-05 1.24622872e-07 ... 1.45084805e-05\n",
      "  1.37315992e-05 4.97971268e-05]\n",
      " [1.66806913e-05 2.06711633e-07 4.96639302e-07 ... 7.69240785e-07\n",
      "  6.20192103e-03 2.88117654e-08]\n",
      " [9.98768655e-07 1.54958393e-08 1.52693318e-07 ... 4.11006645e-11\n",
      "  3.63118957e-08 6.79450218e-10]]\n"
     ]
    }
   ],
   "source": [
    "predictions = new_model.predict(x_test)\n",
    "print(predictions)"
   ]
  },
  {
   "cell_type": "code",
   "execution_count": 18,
   "id": "5c546a4f",
   "metadata": {},
   "outputs": [
    {
     "name": "stdout",
     "output_type": "stream",
     "text": [
      "2\n"
     ]
    }
   ],
   "source": [
    "import numpy as np\n",
    "\n",
    "print(np.argmax(predictions[1]))"
   ]
  },
  {
   "cell_type": "code",
   "execution_count": 19,
   "id": "974c8f9b",
   "metadata": {},
   "outputs": [
    {
     "data": {
      "image/png": "[encoded data removed]",
      "text/plain": [
       "<Figure size 640x480 with 1 Axes>"
      ]
     },
     "metadata": {},
     "output_type": "display_data"
    }
   ],
   "source": [
    "import matplotlib.pyplot as plt\n",
    "plt.imshow(x_test[1], cmap=plt.cm.binary)\n",
    "plt.show()"
   ]
  },
  {
   "cell_type": "code",
   "execution_count": null,
   "id": "aa3f3638",
   "metadata": {},
   "outputs": [],
   "source": []
  }
 ],
 "metadata": {
  "kernelspec": {
   "display_name": "Python 3 (ipykernel)",
   "language": "python",
   "name": "python3"
  },
  "language_info": {
   "codemirror_mode": {
    "name": "ipython",
    "version": 3
   },
   "file_extension": ".py",
   "mimetype": "text/x-python",
   "name": "python",
   "nbconvert_exporter": "python",
   "pygments_lexer": "ipython3",
   "version": "3.11.5"
  }
 },
 "nbformat": 4,
 "nbformat_minor": 5
}
